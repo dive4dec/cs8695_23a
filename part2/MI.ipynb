{
 "cells": [
  {
   "cell_type": "markdown",
   "id": "49f9e23c",
   "metadata": {},
   "source": [
    "---\n",
    "title: Mutual Information Estimation\n",
    "math:\n",
    "  '\\abs': '\\left\\lvert #1 \\right\\rvert'\n",
    "  '\\norm': '\\left\\lvert #1 \\right\\rvert'\n",
    "  '\\Set': '\\left\\{ #1 \\right\\}'\n",
    "  '\\mc': '\\mathcal{#1}'\n",
    "  '\\M': '\\boldsymbol{#1}'\n",
    "  '\\R': '\\mathsf{#1}'\n",
    "  '\\RM': '\\boldsymbol{\\mathsf{#1}}'\n",
    "  '\\op': '\\operatorname{#1}'\n",
    "  '\\E': '\\op{E}'\n",
    "  '\\d': '\\mathrm{\\mathstrut d}'\n",
    "---"
   ]
  },
  {
   "cell_type": "code",
   "execution_count": null,
   "id": "c7b13e3a",
   "metadata": {},
   "outputs": [],
   "source": [
    "# init\n",
    "import ipywidgets as widgets\n",
    "import matplotlib.pyplot as plt\n",
    "import numpy as np\n",
    "import pandas as pd\n",
    "import seaborn as sns\n",
    "import tensorboard as tb\n",
    "import torch\n",
    "import torch.optim as optim\n",
    "from IPython import display\n",
    "from torch import Tensor, nn\n",
    "from torch.nn import functional as F\n",
    "from torch.utils.tensorboard import SummaryWriter\n",
    "\n",
    "%load_ext tensorboard\n",
    "%matplotlib inline\n",
    "\n",
    "\n",
    "def plot_samples_with_kde(df, **kwargs):\n",
    "    p = sns.PairGrid(df, **kwargs)\n",
    "    p.map_lower(sns.scatterplot, s=2)  # scatter plot of samples\n",
    "    p.map_upper(sns.kdeplot)  # kernel density estimate for pXY\n",
    "    p.map_diag(sns.kdeplot)  # kde for pX and pY\n",
    "    return p\n",
    "\n",
    "\n",
    "SEED = 0\n",
    "\n",
    "# set device\n",
    "DEVICE = \"cuda\" if torch.cuda.is_available() else \"cpu\"\n",
    "\n",
    "# create samples\n",
    "XY_rng = np.random.default_rng(SEED)\n",
    "rho = 1 - 0.19 * XY_rng.random()\n",
    "mean, cov, n = [0, 0], [[1, rho], [rho, 1]], 1000\n",
    "XY = XY_rng.multivariate_normal(mean, cov, n)\n",
    "\n",
    "XY_ref_rng = np.random.default_rng(SEED)\n",
    "cov_ref, n_ = [[1, 0], [0, 1]], n\n",
    "XY_ref = XY_ref_rng.multivariate_normal(mean, cov_ref, n_)\n",
    "\n",
    "Z = Tensor(XY).to(DEVICE)\n",
    "Z_ref = Tensor(XY_ref).to(DEVICE)\n",
    "\n",
    "ground_truth = -0.5 * np.log(1 - rho ** 2)"
   ]
  },
  {
   "cell_type": "markdown",
   "id": "c911240d",
   "metadata": {},
   "source": [
    "**How to estimate MI via KL divergence?**"
   ]
  },
  {
   "cell_type": "markdown",
   "id": "b07ca7ef",
   "metadata": {},
   "source": [
    "In this notebook, we will introduce a few methods of estimating the mutual information via KL divergence."
   ]
  },
  {
   "cell_type": "markdown",
   "id": "88bd2c11",
   "metadata": {},
   "source": [
    "We first introduce the Mutual Information Neural Estimation (MINE) method in [](https://doi.org/10.48550/arXiv.1801.04062)."
   ]
  },
  {
   "cell_type": "markdown",
   "id": "a9078a2e",
   "metadata": {},
   "source": [
    "## MINE"
   ]
  },
  {
   "cell_type": "markdown",
   "id": "b502168a",
   "metadata": {},
   "source": [
    "The idea is to obtain MI [](#eq:MI) from KL divergence [](#eq:D) as follows:"
   ]
  },
  {
   "cell_type": "markdown",
   "id": "3e039cd2",
   "metadata": {},
   "source": [
    "$$\n",
    "\\begin{align*}\n",
    "I(\\R{X}\\wedge \\R{Y}) = D(\\underbrace{P_{\\R{X},\\R{Y}}}_{P_{\\R{Z}}}\\| \\underbrace{P_{\\R{X}}\\times P_{\\R{Y}}}_{P_{\\R{Z}'}}).\n",
    "\\end{align*}\n",
    "$$"
   ]
  },
  {
   "cell_type": "markdown",
   "id": "d0bced48",
   "metadata": {},
   "source": [
    "and then apply the DV formula [](#eq:avg-DV) to estimate the divergence:"
   ]
  },
  {
   "cell_type": "markdown",
   "id": "b67d9cd4",
   "metadata": {},
   "source": [
    "````{prf:definition} MINE  \n",
    ":label: MINE\n",
    "\n",
    "The idea of mutual information neural estimation (MINE) is to estimate $I(\\R{X}\\wedge\\R{Y})$ by\n",
    "\n",
    "$$\n",
    "\\begin{align}\n",
    "\\sup_{t_{\\theta}: \\mc{Z} \\to \\mathbb{R}} \\overbrace{\\frac1n \\sum_{i\\in [n]} t_{\\theta}(\\R{X}_i,\\R{Y}_i) - \\frac1{n'}\\sum_{i\\in [n']} e^{t_{\\theta}(\\R{X}'_i,\\R{Y}'_i)}}^{\\R{I}_{\\text{MINE}}(\\theta):=}\n",
    "\\end{align}\n",
    "$$ (eq:MINE)\n",
    "\n",
    "where \n",
    "\n",
    "- the supremum is over $t_{\\theta}$ representable by a neural network with trainable/optimizable parameters $\\theta$,\n",
    "- $P_{\\R{X}',\\R{Y}'}:=P_{\\R{X}}\\times P_{\\R{Y}}$, and\n",
    "- $(\\R{X}'_i,\\R{Y}'_i\\mid i\\in [n'])$ is the sequence of i.i.d. samples of $P_{\\R{X}',\\R{Y}'}$.\n",
    "\n",
    "````"
   ]
  },
  {
   "cell_type": "markdown",
   "id": "2c934360",
   "metadata": {},
   "source": [
    "The above is not a complete description of MINE because there are some implementation details yet to be filled in."
   ]
  },
  {
   "cell_type": "markdown",
   "id": "af39718d",
   "metadata": {},
   "source": [
    "### Resampling"
   ]
  },
  {
   "cell_type": "markdown",
   "id": "95dd1028",
   "metadata": {
    "slideshow": {
     "slide_type": "subslide"
    }
   },
   "source": [
    "**How to obtain the reference samples ${\\R{Z}'}^{n'}$, i.e., ${\\R{X}'}^{n'}$ and ${\\R{Y}'}^{n'}$?**"
   ]
  },
  {
   "cell_type": "markdown",
   "id": "7a15dfde",
   "metadata": {},
   "source": [
    "We can approximate the i.i.d. sampling of $P_{\\R{X}}\\times P_{\\R{Y}}$ using samples from $P_{\\R{X},\\R{Y}}$ by a re-sampling trick:"
   ]
  },
  {
   "cell_type": "markdown",
   "id": "60f8092a",
   "metadata": {
    "slideshow": {
     "slide_type": "fragment"
    }
   },
   "source": [
    "$$\n",
    "\\begin{align}\n",
    "P_{\\R{Z}'^{n'}} &\\approx P_{((\\R{X}_{\\R{J}_i},\\R{Y}_{\\R{K}_i})\\mid i \\in [n'])}\n",
    "\\end{align}\n",
    "$$ (eq:resample)\n",
    "\n",
    "where $\\R{J}_i$ and $\\R{K}_i$ for $i\\in [n']$ are independent and uniformly random indices\n",
    "\n",
    "$$\n",
    "P_{\\R{J},\\R{K}} = \\op{Uniform}_{[n]\\times [n]}\n",
    "$$\n",
    "\n",
    "and $[n]:=\\Set{1,\\dots,n}$."
   ]
  },
  {
   "cell_type": "markdown",
   "id": "5815d011",
   "metadata": {
    "slideshow": {
     "slide_type": "subslide"
    }
   },
   "source": [
    "MINE [](https://doi.org/10.48550/arXiv.1801.04062) uses the following implementation that samples $(\\R{J},\\R{K})$ but without replacement. You can change $n'$ using the slider for `n_`."
   ]
  },
  {
   "cell_type": "code",
   "execution_count": null,
   "id": "24d57cd3",
   "metadata": {},
   "outputs": [],
   "source": [
    "rng = np.random.default_rng(SEED)\n",
    "\n",
    "\n",
    "def resample(data, size, replace=False):\n",
    "    index = rng.choice(range(data.shape[0]), size=size, replace=replace)\n",
    "    return data[index]\n",
    "\n",
    "\n",
    "@widgets.interact(n_=widgets.IntSlider(n, 2, n, continuous_update=False))\n",
    "def plot_resampled_data_without_replacement(n_):\n",
    "    XY_ = np.block([resample(XY[:, [0]], n_), resample(XY[:, [1]], n_)])\n",
    "    resampled_data = pd.DataFrame(XY_, columns=[\"X'\", \"Y'\"])\n",
    "    plot_samples_with_kde(resampled_data)\n",
    "    plt.show()"
   ]
  },
  {
   "cell_type": "markdown",
   "id": "bb255ad0",
   "metadata": {},
   "source": [
    "In the above, the function `resample`\n",
    "- uses `choice` to uniformly randomly select a choice\n",
    "- from a `range` of integers going from `0` to \n",
    "- the size of the first dimension of the `data`."
   ]
  },
  {
   "cell_type": "markdown",
   "id": "c69aebfc",
   "metadata": {},
   "source": [
    "Note however that the sampling is without replacement."
   ]
  },
  {
   "cell_type": "markdown",
   "id": "8a9d8e67",
   "metadata": {},
   "source": [
    "**Is it a good idea to sample without replacement?**"
   ]
  },
  {
   "cell_type": "markdown",
   "id": "e4128f5b",
   "metadata": {},
   "source": [
    "::::{exercise}\n",
    ":label: ex:without-replacement\n",
    "\n",
    "Sampling without replacement has an important restriction $n'\\leq n$. Why?\n",
    "\n",
    "::::"
   ]
  },
  {
   "cell_type": "markdown",
   "id": "29bf928c",
   "metadata": {
    "deletable": false,
    "nbgrader": {
     "cell_type": "markdown",
     "checksum": "77205214fa4e52f5d61d3fc48938d5b0",
     "grade": true,
     "grade_id": "without-replacement",
     "locked": false,
     "points": 1,
     "schema_version": 3,
     "solution": true,
     "task": false
    }
   },
   "source": [
    "YOUR ANSWER HERE"
   ]
  },
  {
   "cell_type": "markdown",
   "id": "343a0036",
   "metadata": {},
   "source": [
    "::::{exercise}\n",
    ":label: ex:resample\n",
    "\n",
    "To allow $n>n'$, complete the following code to sample with replacement and observe what happens when $n \\gg n'$.\n",
    "\n",
    "::::"
   ]
  },
  {
   "cell_type": "code",
   "execution_count": null,
   "id": "d2c42e51",
   "metadata": {
    "deletable": false,
    "nbgrader": {
     "cell_type": "code",
     "checksum": "ae6eba2ff639b9549af3fb4df2887424",
     "grade": false,
     "grade_id": "resample",
     "locked": false,
     "schema_version": 3,
     "solution": true,
     "task": false
    },
    "tags": [
     "hide-cell"
    ]
   },
   "outputs": [],
   "source": [
    "@widgets.interact(n_=widgets.IntSlider(n, 2, 10 * n, continuous_update=False))\n",
    "def plot_resampled_data_with_replacement(n_):\n",
    "    # YOUR CODE HERE\n",
    "    raise NotImplementedError()\n",
    "    resampled_data = pd.DataFrame(XY_, columns=[\"X'\", \"Y'\"])\n",
    "    plot_samples_with_kde(resampled_data)\n",
    "    plt.show()"
   ]
  },
  {
   "cell_type": "markdown",
   "id": "24d04728",
   "metadata": {
    "slideshow": {
     "slide_type": "fragment"
    }
   },
   "source": [
    "::::{exercise}\n",
    ":label: ex:non-iid \n",
    "\n",
    "Explain whether the resampling trick gives i.i.d. samples $(\\R{X}_{\\R{J}_i},\\R{Y}_{\\R{K}_i})$ for the cases with replacement and without replacement respectively?\n",
    "\n",
    "::::"
   ]
  },
  {
   "cell_type": "markdown",
   "id": "62e9a9f9",
   "metadata": {
    "deletable": false,
    "nbgrader": {
     "cell_type": "markdown",
     "checksum": "c5d1dc766bd8ce4ba5b7e66b83f1e039",
     "grade": true,
     "grade_id": "non-iid",
     "locked": false,
     "points": 1,
     "schema_version": 3,
     "solution": true,
     "task": false
    },
    "slideshow": {
     "slide_type": "fragment"
    },
    "tags": [
     "hide-cell"
    ]
   },
   "source": [
    "YOUR ANSWER HERE"
   ]
  },
  {
   "cell_type": "markdown",
   "id": "91223564",
   "metadata": {},
   "source": [
    "### Smoothing"
   ]
  },
  {
   "cell_type": "markdown",
   "id": "b35150d8",
   "metadata": {},
   "source": [
    "To improve the stability of the training, MINE applies additional smoothing to the gradient calculation."
   ]
  },
  {
   "cell_type": "markdown",
   "id": "c2264d95",
   "metadata": {},
   "source": [
    "**How to train the neural network?**"
   ]
  },
  {
   "cell_type": "markdown",
   "id": "ffbc4ad2",
   "metadata": {},
   "source": [
    "[](#eq:MINE) can be solved iteratively by minibatch gradient descent using the loss function:\n",
    "\n",
    "$$\n",
    "\\begin{align}\n",
    "\\R{L}_{\\text{MINE}}(\\theta) &:= \\overbrace{- \\frac{1}{\\abs{\\R{B}}} \\sum_{i\\in \\R{B}}  t_{\\theta} (\\R{X}_i, \\R{Y}_i) }^{\\R{L}(\\theta):=} + \\log \\overbrace{\\frac{1}{\\abs{\\R{B}'}} \\sum_{i\\in \\R{B}'}  e^{t_{\\theta} (\\R{X}'_i, \\R{Y}'_i)}}^{\\R{L}'(\\theta):=}\n",
    "\\end{align}\n",
    "$$\n",
    "\n",
    "where $\\R{B}$ and $\\R{B}'$ are batches of uniformly randomly chosen indices from $[n]$ and $[n']$ respectively."
   ]
  },
  {
   "cell_type": "markdown",
   "id": "3ae7a005",
   "metadata": {},
   "source": [
    "The gradient expressed in terms of $\\R{L}$ and $\\R{L}'$ is:\n",
    "\n",
    "$$\n",
    "\\begin{align}\n",
    "\\nabla \\R{L}_{\\text{MINE}}(\\theta) &= \\nabla \\R{L}(\\theta) + \\frac{\\nabla \\R{L}'(\\theta)}{\\R{L}'(\\theta)}.\n",
    "\\end{align}\n",
    "$$"
   ]
  },
  {
   "cell_type": "markdown",
   "id": "751313b2",
   "metadata": {},
   "source": [
    "Variation in $\\nabla \\R{L}'(\\theta)$ leads to the variation of the overall gradient especially when $\\R{L}'(\\theta)$ is small. With minibatch gradient descent, the sample average is over a small batch and so the variance can be quite large."
   ]
  },
  {
   "cell_type": "markdown",
   "id": "1a23b605",
   "metadata": {},
   "source": [
    "**How to reduce the variation in the gradient approximation?**"
   ]
  },
  {
   "cell_type": "markdown",
   "id": "114d7eeb",
   "metadata": {},
   "source": [
    "To alleviate the variation, MINE replaces the denominator $\\R{L}'(\\theta)$ by its moving average:"
   ]
  },
  {
   "cell_type": "markdown",
   "id": "b85da3a5",
   "metadata": {},
   "source": [
    "$$\n",
    "\\theta_{j+1} := \\theta_j - s_j \\underbrace{\\left(\\nabla \\R{L}_j (\\theta_j) + \\frac{\\nabla \\R{L}'_j(\\theta_j)}{\\overline{\\R{L}'}_j}\\right)}_{\\text{(*)}}\n",
    "$$ (eq:MINE:update)\n",
    "\n",
    "where $\\R{L}_j$ and $\\R{L}'_j$ are the \n",
    "\n",
    "$$\n",
    "\\overline{\\R{L}'}_j =  \\beta \\overline{\\R{L}'}_{j-1} + (1-\\beta) \\R{L}'(\\theta_j)\n",
    "$$ (eq:MINE:L2bar)\n",
    "\n",
    "for some smoothing factor $\\beta\\in [0,1]$."
   ]
  },
  {
   "cell_type": "markdown",
   "id": "1ad00e0c",
   "metadata": {},
   "source": [
    "**How to implement the smoothing?**"
   ]
  },
  {
   "cell_type": "markdown",
   "id": "94a03c01",
   "metadata": {},
   "source": [
    "Instead of implementing a new optimizer, a simpler way is to redefine the loss at each step $i$ as follows [](https://doi.org/10.48550/arXiv.1801.04062):"
   ]
  },
  {
   "cell_type": "markdown",
   "id": "a57a08d8",
   "metadata": {},
   "source": [
    "$$\n",
    "\\R{L}_{\\text{MINE},j}(\\theta) = \\R{L}_j(\\theta) + \\frac{\\R{L}'_j(\\theta)}{\\overline{\\R{L}'}_j}\n",
    "$$ (eq:MINE:mv)\n",
    "\n",
    "where $\\overline{\\R{L}'}_j$ in [](#eq:MINE:L2bar) is regarded as a constant in calculating the gradient. It is easy to verify that $\\nabla \\R{L}_{\\text{MINE},j}(\\theta_j)$ gives the desired gradient (*) in [](#eq:MINE:update)."
   ]
  },
  {
   "cell_type": "markdown",
   "id": "d47ef3e0",
   "metadata": {},
   "source": [
    "In summary:"
   ]
  },
  {
   "cell_type": "markdown",
   "id": "4d210d4c",
   "metadata": {},
   "source": [
    "````{prf:definition} \n",
    "\n",
    "MINE estimates the mutual information $I(\\R{X}\\wedge\\R{Y})$ as $\\R{I}_{\\text{MINE}}(\\theta_j)$ [](#eq:MINE) where $\\theta_j$ is updated by descending along the gradient of $\\R{L}_{\\text{MINE},j}$ [](#eq:MINE:mv) iteratively after $j$ steps.\n",
    "\n",
    "````"
   ]
  },
  {
   "cell_type": "markdown",
   "id": "56653d9d",
   "metadata": {},
   "source": [
    "### Implementation"
   ]
  },
  {
   "cell_type": "markdown",
   "id": "a7fb0306",
   "metadata": {},
   "source": [
    "Consider implementing MINE for the jointly gaussian $\\R{X}$ and $\\R{Y}$:"
   ]
  },
  {
   "cell_type": "code",
   "execution_count": null,
   "id": "502551bd",
   "metadata": {},
   "outputs": [],
   "source": [
    "SEED = 0\n",
    "\n",
    "# set device\n",
    "DEVICE = \"cuda\" if torch.cuda.is_available() else \"cpu\"\n",
    "\n",
    "# create samples\n",
    "XY_rng = np.random.default_rng(SEED)\n",
    "rho = 1 - 0.19 * XY_rng.random()\n",
    "mean, cov, n = [0, 0], [[1, rho], [rho, 1]], 1000\n",
    "XY = XY_rng.multivariate_normal(mean, cov, n)\n",
    "\n",
    "X = Tensor(XY[:, [0]]).to(DEVICE)\n",
    "Y = Tensor(XY[:, [1]]).to(DEVICE)\n",
    "ground_truth = -0.5 * np.log(1 - rho ** 2)\n",
    "X.shape, Y.shape, ground_truth"
   ]
  },
  {
   "cell_type": "markdown",
   "id": "feb84cfe",
   "metadata": {},
   "source": [
    "The tensors `X` and `Y` correspond to samples of $\\R{X}$ and $\\R{Y}$ respectively. The first dimension indices the different samples. The `ground_truth` is the actual mutual information $I(\\R{X}\\wedge\\R{Y})$."
   ]
  },
  {
   "cell_type": "markdown",
   "id": "2da097e1",
   "metadata": {},
   "source": [
    "::::{exercise}\n",
    ":label: ex:MINE-Net\n",
    "\n",
    "Complete the definition of `forward` so that the neural network $t_{\\theta}$ is a vectorized function that takes samples `x` and `y` of $\\R{X}$ and $\\R{Y}$ as input and approximates the density ratio $\\frac{P_{\\R{X},\\R{Y}}}{P_{\\R{X}}\\times P_{\\R{Y}}}$ at `(x, y)`:\n",
    "\n",
    "![Neural network](images/nn.dio.svg)\n",
    "\n",
    "- Use `torch.cat` to concatenate tensors `x` and `y` in the last dimension.\n",
    "- Use `F.elu` for the activation function $\\sigma$.\n",
    "\n",
    "::::"
   ]
  },
  {
   "cell_type": "code",
   "execution_count": null,
   "id": "149263d7",
   "metadata": {
    "deletable": false,
    "nbgrader": {
     "cell_type": "code",
     "checksum": "fb3503c61aba99c3f2024bf395f2ec47",
     "grade": false,
     "grade_id": "MINE-Net",
     "locked": false,
     "schema_version": 3,
     "solution": true,
     "task": false
    }
   },
   "outputs": [],
   "source": [
    "class Net(nn.Module):\n",
    "    def __init__(self, input_size=2, hidden_size=100, sigma=0.02):\n",
    "        super().__init__()\n",
    "        # fully-connected (fc) layers\n",
    "        self.fc1 = nn.Linear(input_size, hidden_size)\n",
    "        self.fc2 = nn.Linear(hidden_size, hidden_size)  # layer 2\n",
    "        self.fc3 = nn.Linear(hidden_size, 1)  # layer 3\n",
    "        nn.init.normal_(self.fc1.weight, std=sigma)  #\n",
    "        nn.init.constant_(self.fc1.bias, 0)\n",
    "        nn.init.normal_(self.fc2.weight, std=sigma)\n",
    "        nn.init.constant_(self.fc2.bias, 0)\n",
    "        nn.init.normal_(self.fc3.weight, std=sigma)\n",
    "        nn.init.constant_(self.fc3.bias, 0)\n",
    "\n",
    "    def forward(self, x, y):\n",
    "        \"\"\"\n",
    "        Vectorized function that implements the neural network t(x,y).\n",
    "\n",
    "        Parameters:\n",
    "        -----------\n",
    "        x, y: 2D Tensors where the first dimensions index different samples.\n",
    "        \"\"\"\n",
    "        # YOUR CODE HERE\n",
    "        raise NotImplementedError()\n",
    "        return t\n",
    "\n",
    "    def plot(self, xmin=-5, xmax=5, ymin=-5, ymax=5, xgrids=50, ygrids=50, ax=None):\n",
    "        \"\"\"Plot a heat map of a neural network net. net can only have two inputs.\"\"\"\n",
    "        x, y = np.mgrid[xmin : xmax : xgrids * 1j, ymin : ymax : ygrids * 1j]\n",
    "        with torch.no_grad():\n",
    "            z = (\n",
    "                net(\n",
    "                    Tensor(x.reshape(-1, 1)).to(DEVICE),\n",
    "                    Tensor(y.reshape(-1, 1)).to(DEVICE),\n",
    "                )\n",
    "                .reshape(x.shape)\n",
    "                .cpu()\n",
    "            )\n",
    "        if ax is None:\n",
    "            ax = plt.gca()\n",
    "        im = ax.pcolormesh(x, y, z, cmap=\"RdBu_r\", shading=\"auto\")\n",
    "        ax.figure.colorbar(im)\n",
    "        ax.set(xlabel=r\"$x$\", ylabel=r\"$y$\", title=r\"Heatmap of $t(x,y)$\")"
   ]
  },
  {
   "cell_type": "markdown",
   "id": "a0239bc7",
   "metadata": {},
   "source": [
    "To create and plot the neural network:"
   ]
  },
  {
   "cell_type": "code",
   "execution_count": null,
   "id": "9a58ed2d",
   "metadata": {},
   "outputs": [],
   "source": [
    "torch.manual_seed(SEED)\n",
    "net = Net().to(DEVICE)\n",
    "net.plot()"
   ]
  },
  {
   "cell_type": "markdown",
   "id": "38f17213",
   "metadata": {},
   "source": [
    "::::{exercise}\n",
    ":label: ex:MINETrainer\n",
    "\n",
    "To implement a neural network trainer for MINE similar to `DVTrainer`, completes the definition of `loss` according to [](#eq:MINE:mv):\n",
    "\n",
    "::::"
   ]
  },
  {
   "cell_type": "code",
   "execution_count": null,
   "id": "3372453a",
   "metadata": {
    "deletable": false,
    "nbgrader": {
     "cell_type": "code",
     "checksum": "8f62622d40cef0004af40717a753941d",
     "grade": false,
     "grade_id": "MINETrainer",
     "locked": false,
     "schema_version": 3,
     "solution": true,
     "task": false
    }
   },
   "outputs": [],
   "source": [
    "class MINETrainer:\n",
    "    def __init__(\n",
    "        self, X, Y, net, n_iters_per_epoch, writer_params={}, m=1, beta=0.1, **kwargs\n",
    "    ):\n",
    "        \"\"\"\n",
    "        Neural estimator for Mutual Information based on MINE.\n",
    "\n",
    "        Estimate I(X;Y) using samples of X and Y by training a network t to maximize\n",
    "            avg(t(X,Y)) - avg(e^t(X',Y')) / m\n",
    "        where samples of (X',Y') approximates P_X * P_Y using the resampling trick, and\n",
    "        m is obtained by smoothing avg(e^t(X',Y')) with the factor beta.\n",
    "\n",
    "        parameters:\n",
    "        -----------\n",
    "\n",
    "        X, Y : Tensors with first dimensions of the same size indicing the samples.\n",
    "        net  : The neural network t that takes X and Y as input and output a real number for each a real number for each sample.\n",
    "        n_iters_per_epoch : Number of iterations per epoch.\n",
    "        m    : initial value for the moving average\n",
    "        beta : Smoothing/forgetting factor between [0,1]\n",
    "        writer_params     : Parameters to be passed to SummaryWriter for logging.\n",
    "        \"\"\"\n",
    "        self.X = X\n",
    "        self.Y = Y\n",
    "        self.n = min(X.shape[0], Y.shape[0])\n",
    "        self.beta = beta\n",
    "        self.m = m\n",
    "        self.net = net\n",
    "        self.n_iters_per_epoch = n_iters_per_epoch\n",
    "\n",
    "        # set optimizer\n",
    "        self.optimizer = optim.Adam(self.net.parameters(), **kwargs)\n",
    "\n",
    "        # logging\n",
    "        self.writer = SummaryWriter(**writer_params)\n",
    "        self.n_iter = self.n_epoch = 0\n",
    "\n",
    "    def step(self, epochs=1):\n",
    "        \"\"\"\n",
    "        Carries out the gradient descend for a number of epochs and returns the MI estimate evaluated over the entire data.\n",
    "\n",
    "        Loss for each epoch is recorded into the log, but only one MI estimate is computed/logged using the entire dataset.\n",
    "        Rerun the method to continue to train the neural network and log the results.\n",
    "\n",
    "        Parameters:\n",
    "        -----------\n",
    "        epochs : number of epochs\n",
    "        \"\"\"\n",
    "        for i in range(epochs):\n",
    "            self.n_epoch += 1\n",
    "\n",
    "            # random indices for selecting samples for all batches in one epoch\n",
    "            idx = torch.randperm(self.n)\n",
    "\n",
    "            # resampling to approximate the sampling of (X',Y')\n",
    "            idx_X = torch.randperm(self.n)\n",
    "            idx_Y = torch.randperm(self.n)\n",
    "\n",
    "            for j in range(self.n_iters_per_epoch):  # loop through multiple batches\n",
    "                self.n_iter += 1\n",
    "                self.optimizer.zero_grad()\n",
    "\n",
    "                # obtain a random batch of samples\n",
    "                batch_X = self.X[idx[j : self.n : self.n_iters_per_epoch]]\n",
    "                batch_Y = self.Y[idx[j : self.n : self.n_iters_per_epoch]]\n",
    "                batch_X_ref = self.X[idx_X[j : self.n : self.n_iters_per_epoch]]\n",
    "                batch_Y_ref = self.Y[idx_Y[j : self.n : self.n_iters_per_epoch]]\n",
    "\n",
    "                # define the loss\n",
    "                # YOUR CODE HERE\n",
    "                raise NotImplementedError()\n",
    "                loss.backward()\n",
    "                self.optimizer.step()\n",
    "\n",
    "            self.writer.add_scalar(\"Loss/train\", loss.item(), global_step=self.n_iter)\n",
    "\n",
    "        with torch.no_grad():\n",
    "            idx_X = torch.randperm(self.n)\n",
    "            idx_Y = torch.randperm(self.n)\n",
    "            X_ref = self.X[idx_X]\n",
    "            Y_ref = self.Y[idx_Y]\n",
    "            estimate = (\n",
    "                self.net(self.X, self.Y).mean()\n",
    "                - self.net(X_ref, Y_ref).logsumexp(0)\n",
    "                + np.log(self.n)\n",
    "            ).item()\n",
    "            self.writer.add_scalar(\"Estimate\", estimate, global_step=self.n_epoch)\n",
    "            return estimate"
   ]
  },
  {
   "cell_type": "markdown",
   "id": "95e55b23",
   "metadata": {},
   "source": [
    "To create the trainer for MINE:"
   ]
  },
  {
   "cell_type": "code",
   "execution_count": null,
   "id": "be2dd088",
   "metadata": {},
   "outputs": [],
   "source": [
    "trainer = MINETrainer(X, Y, net, n_iters_per_epoch=10)"
   ]
  },
  {
   "cell_type": "markdown",
   "id": "694d4613",
   "metadata": {},
   "source": [
    "To train the neural network:"
   ]
  },
  {
   "cell_type": "code",
   "execution_count": null,
   "id": "d0f37ca2",
   "metadata": {},
   "outputs": [],
   "source": [
    "if input(\"Train? [Y/n]\").lower() != \"n\":\n",
    "    for i in range(10):\n",
    "        print('MI estimate:', trainer.step(10))\n",
    "    net.plot()"
   ]
  },
  {
   "cell_type": "code",
   "execution_count": null,
   "id": "c03640ec",
   "metadata": {},
   "outputs": [],
   "source": [
    "%tensorboard --logdir=runs"
   ]
  },
  {
   "cell_type": "markdown",
   "id": "45a3b94a",
   "metadata": {},
   "source": [
    "::::{exercise}\n",
    ":label: ex:MI \n",
    "\n",
    "See if you can get an estimate close to the ground truth by training the neural network repeated as shown below.\n",
    "\n",
    "![MI estimate](images/MI_est.dio.svg)\n",
    "\n",
    "::::"
   ]
  },
  {
   "cell_type": "markdown",
   "id": "142e5b5d",
   "metadata": {},
   "source": [
    "To clean-up:"
   ]
  },
  {
   "cell_type": "code",
   "execution_count": null,
   "id": "9cb265c5",
   "metadata": {},
   "outputs": [],
   "source": [
    "if input('Delete logs? [y/N]').lower() == 'y':\n",
    "    !rm -rf ./runs"
   ]
  },
  {
   "cell_type": "code",
   "execution_count": null,
   "id": "1762f382",
   "metadata": {},
   "outputs": [],
   "source": [
    "tb.notebook.list() # list all the running TensorBoard notebooks.\n",
    "while (pid := input('pid to kill? (press enter to exit)')):\n",
    "    !kill {pid}"
   ]
  },
  {
   "cell_type": "markdown",
   "id": "0640e484",
   "metadata": {},
   "source": [
    "## MI-NEE"
   ]
  },
  {
   "cell_type": "markdown",
   "id": "563c479c",
   "metadata": {},
   "source": [
    "**Is it possible to generate i.i.d. samples for ${\\R{Z}'}^{n'}$?**"
   ]
  },
  {
   "cell_type": "markdown",
   "id": "6ef989df",
   "metadata": {},
   "source": [
    "Consider another formula for mutual information:"
   ]
  },
  {
   "cell_type": "markdown",
   "id": "92304dd7",
   "metadata": {},
   "source": [
    "````{prf:proposition} \n",
    ":label: MI-3D\n",
    "\n",
    "$$\n",
    "\\begin{align}\n",
    "I(\\R{X}\\wedge \\R{Y}) &= D(P_{\\R{X},\\R{Y}}\\|P_{\\R{X}'}\\times P_{\\R{Y}'}) - D(P_{\\R{X}}\\|P_{\\R{X}'}) - D(P_{\\R{Y}}\\|P_{\\R{Y}'})\n",
    "\\end{align}\n",
    "$$ (eq:MI-3D)\n",
    "\n",
    "for any product reference distribution $P_{\\R{X}'}\\times P_{\\R{Y}'}$ for which the divergences are finite.\n",
    "\n",
    "````"
   ]
  },
  {
   "cell_type": "markdown",
   "id": "6cf2fe5e",
   "metadata": {},
   "source": [
    "````{prf:corollary} \n",
    ":label: MI-ub\n",
    "\n",
    "\n",
    "$$\n",
    "\\begin{align}\n",
    "I(\\R{X}\\wedge \\R{Y}) &= \\inf_{\\substack{P_{\\R{X}'}\\in \\mc{P}(\\mc{X})\\\\ P_{\\R{Y}'}\\in \\mc{P}(\\mc{Y})}} D(P_{\\R{X},\\R{Y}}\\|P_{\\R{X}'}\\times P_{\\R{Y}'}).\n",
    "\\end{align}\n",
    "$$ (eq:MI-ub)\n",
    "\n",
    "where the optimal solution is $P_{\\R{X}'}\\times P_{\\R{Y}'}=P_{\\R{X}}\\times P_{\\R{Y}}$, the product of marginal distributions of $\\R{X}$ and $\\R{Y}$. \n",
    "\n",
    "````"
   ]
  },
  {
   "cell_type": "markdown",
   "id": "f65f08ac",
   "metadata": {},
   "source": [
    "````{prf:proof} \n",
    "\n",
    "[](#eq:MI-ub) follows from [](#eq:MI-3D) directly since the divergences are non-negative. To prove the proposition:\n",
    "\n",
    "$$\n",
    "\\begin{align}\n",
    "I(\\R{X}\\wedge \\R{Y}) &= H(\\R{X}) + H(\\R{Y}) - H(\\R{X},\\R{Y})\\\\\n",
    "&= E\\left[-\\log dP_{\\R{X}'}(\\R{X})\\right] - D(P_{\\R{X}}\\|P_{\\R{X}'})\\\\\n",
    "&\\quad+E\\left[-\\log dP_{\\R{Y}'}(\\R{Y})\\right] - D(P_{\\R{Y}}\\|P_{\\R{Y}'})\\\\\n",
    "&\\quad-E\\left[-\\log d(P_{\\R{X}'}\\times P_{\\R{Y}'})(\\R{X},\\R{Y})\\right] + D(P_{\\R{X},\\R{Y}}\\|P_{\\R{X}'}\\times P_{\\R{Y}'})\\\\\n",
    "&= D(P_{\\R{X},\\R{Y}}\\|P_{\\R{X}'}\\times P_{\\R{Y}'}) - D(P_{\\R{X}}\\|P_{\\R{X}'}) - D(P_{\\R{Y}}\\|P_{\\R{Y}'})\n",
    "\\end{align}\n",
    "$$\n",
    "\n",
    "````"
   ]
  },
  {
   "cell_type": "markdown",
   "id": "29f7435d",
   "metadata": {},
   "source": [
    "*Mutual Information Neural Entropic Estimation (MI-NEE)* [](https://doi.org/10.48550/arXiv.1905.12957) uses [](#eq:MI-3D) to estimate MI by estimating the three divergences."
   ]
  },
  {
   "cell_type": "markdown",
   "id": "fdcb768f",
   "metadata": {},
   "source": [
    "Applying [](#eq:avg-DV) to each divergence in [](#eq:MI-3D):"
   ]
  },
  {
   "cell_type": "markdown",
   "id": "16f882ba",
   "metadata": {},
   "source": [
    "$$\n",
    "\\begin{align}\n",
    "I(\\R{X}\\wedge \\R{Y}) &\\approx \\sup_{t: \\mc{Z} \\to \\mathbb{R}} \\frac1n \\sum_{i\\in [n]} t_{\\R{X},\\R{Y}}(\\R{X}_i,\\R{Y}_i) - \\frac1{n'}\\sum_{i\\in [n']} e^{t_{\\R{X},\\R{Y}}(\\R{X}'_i,\\R{Y}'_i)}\\\\\n",
    "&\\quad - \\sup_{t: \\mc{Z} \\to \\mathbb{R}} \\frac1n \\sum_{i\\in [n]} t_{\\R{X}}(\\R{X}_i) - \\frac1{n'}\\sum_{i\\in [n']} e^{t_{\\R{X}}(\\R{X}'_i)} \\\\\n",
    "&\\quad - \\sup_{t: \\mc{Z} \\to \\mathbb{R}} \\frac1n \\sum_{i\\in [n]} t_{\\R{Y}}(\\R{Y}_i) - \\frac1{n'}\\sum_{i\\in [n']} e^{t_{\\R{Y}}(\\R{Y}'_i)}\n",
    "\\end{align}\n",
    "$$ (eq:MI-NEE)"
   ]
  },
  {
   "cell_type": "markdown",
   "id": "caeab27b",
   "metadata": {},
   "source": [
    "$P_{\\R{X}'}$ and $P_{\\R{Y}'}$ are known distributions and so arbitrarily many i.i.d. samples can be drawn from them directly without using the resampling trick [](#eq:resample)."
   ]
  },
  {
   "cell_type": "markdown",
   "id": "99f596bc",
   "metadata": {},
   "source": [
    "Indeed, since the choice of $P_{\\R{X}'}$ and $P_{\\R{Y}'}$ are arbitrary, we can also also train neural networks to optimize them. In particular, [](#eq:MI-ub) is a special case where we can train neural networks to approximate $P_{\\R{X}}$ and $P_{\\R{Y}}$."
   ]
  }
 ],
 "metadata": {
  "kernelspec": {
   "display_name": "Python 3 (ipykernel)",
   "language": "python",
   "name": "python3"
  }
 },
 "nbformat": 4,
 "nbformat_minor": 5
}
